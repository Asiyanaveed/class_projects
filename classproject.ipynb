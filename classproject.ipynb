{
  "nbformat": 4,
  "nbformat_minor": 0,
  "metadata": {
    "colab": {
      "provenance": [],
      "authorship_tag": "ABX9TyOdAUDnu+cjxZq36PTyI2hH",
      "include_colab_link": true
    },
    "kernelspec": {
      "name": "python3",
      "display_name": "Python 3"
    },
    "language_info": {
      "name": "python"
    }
  },
  "cells": [
    {
      "cell_type": "markdown",
      "metadata": {
        "id": "view-in-github",
        "colab_type": "text"
      },
      "source": [
        "<a href=\"https://colab.research.google.com/github/Asiyanaveed/class_projects/blob/main/classproject.ipynb\" target=\"_parent\"><img src=\"https://colab.research.google.com/assets/colab-badge.svg\" alt=\"Open In Colab\"/></a>"
      ]
    },
    {
      "cell_type": "code",
      "execution_count": 1,
      "metadata": {
        "colab": {
          "base_uri": "https://localhost:8080/"
        },
        "id": "OXtLlMc4xvWp",
        "outputId": "b85cc4f9-dd2a-409e-f1c9-fecd2e0ce77e"
      },
      "outputs": [
        {
          "output_type": "stream",
          "name": "stdout",
          "text": [
            "Add Student? (Y/N): y\n",
            "Name: Asiya\n",
            "Roll No: 00248163\n",
            "Math: 89\n",
            "Physics: 80\n",
            "Urdu: 90\n",
            "English: 95\n",
            "Computer: 80\n",
            "Add Student? (Y/N): n\n",
            "\n",
            "Asiya (Roll No: 00248163)\n",
            "Math: 89.0\n",
            "Physics: 80.0\n",
            "Urdu: 90.0\n",
            "English: 95.0\n",
            "Computer: 80.0\n",
            "Percentage: 86.80%, Grade: A+\n",
            "\n"
          ]
        }
      ],
      "source": [
        "def get_grade(percentage):\n",
        "    return \"A+\" if percentage >= 80 else \"A\" if percentage >= 70 else \"B\" if percentage >= 60 else \"C\" if percentage >= 50 else \"F\"\n",
        "\n",
        "students = []\n",
        "while input(\"Add Student? (Y/N): \").strip().upper() == 'Y':\n",
        "    name = input(\"Name: \")\n",
        "    roll_no = input(\"Roll No: \")\n",
        "    subjects = [\"Math\", \"Physics\", \"Urdu\", \"English\", \"Computer\"]\n",
        "    marks = {s: float(input(f\"{s}: \")) for s in subjects}\n",
        "    percentage = sum(marks.values()) / len(marks)\n",
        "    grade = get_grade(percentage)\n",
        "    students.append((name, roll_no, marks, percentage, grade))\n",
        "\n",
        "for name, roll_no, marks, percentage, grade in students:\n",
        "    print(f\"\\n{name} (Roll No: {roll_no})\")\n",
        "    for subject, mark in marks.items():\n",
        "        print(f\"{subject}: {mark}\")\n",
        "    print(f\"Percentage: {percentage:.2f}%, Grade: {grade}\\n\")\n"
      ]
    }
  ]
}